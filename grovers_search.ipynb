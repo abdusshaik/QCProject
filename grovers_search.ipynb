{
 "cells": [
  {
   "cell_type": "code",
   "execution_count": 1,
   "id": "0585768b-74f4-4b24-a99f-274743231b84",
   "metadata": {},
   "outputs": [],
   "source": [
    "# import necessary packages\n",
    "import numpy as np\n",
    "import scipy as sci"
   ]
  },
  {
   "cell_type": "code",
   "execution_count": 2,
   "id": "927816d1-2b83-4192-a2f1-02ad9f33b16f",
   "metadata": {},
   "outputs": [],
   "source": [
    "# define number of qubits\n",
    "N = 3"
   ]
  },
  {
   "cell_type": "code",
   "execution_count": 3,
   "id": "c3e8705e-a13f-49bc-a501-4420431acde0",
   "metadata": {},
   "outputs": [],
   "source": [
    "# create qubit register with all states being at equal probability of 0 state with amplitude 1/sqrt(2^N)\n",
    "def qubit_register(N):\n",
    "    \n",
    "    # initialize column vector\n",
    "    psi = 1 / np.sqrt(2**N) * np.zeros((2**N, 1), dtype=complex)\n",
    "    psi[0] = 1\n",
    "    \n",
    "    return psi"
   ]
  },
  {
   "cell_type": "code",
   "execution_count": 4,
   "id": "8c3291ff-1c8e-4ca8-ae1b-403361e50c9f",
   "metadata": {},
   "outputs": [],
   "source": [
    "# measure probability of each basis state\n",
    "def measure_Sz(state):\n",
    "    \n",
    "    probabilities = np.abs(state)**2\n",
    "    \n",
    "    # select a basis state randomly according to the probabilities\n",
    "    measurement = np.random.choice(np.arange(len(state)), p=probabilities.ravel())\n",
    "    \n",
    "    return measurement"
   ]
  },
  {
   "cell_type": "code",
   "execution_count": 5,
   "id": "6f80d79f-59a8-401c-9767-e94847ce3365",
   "metadata": {},
   "outputs": [],
   "source": [
    "# perform Hadamard transformation for any N\n",
    "def hadamard_transform(N):\n",
    "    # define the initial Hadamard matrix\n",
    "    hadamard_initial = 1 / np.sqrt(2) * np.array([[1, 1], [1, -1]])\n",
    "\n",
    "    # number of iterations for the transformation\n",
    "    num_iterations = N - 1\n",
    "\n",
    "    # initialize the resulting tensor product matrix\n",
    "    hadamard_result = hadamard_initial\n",
    "\n",
    "    # perform tensor product iteratively\n",
    "    for i in range(num_iterations):\n",
    "        hadamard_result = np.kron(hadamard_initial, hadamard_result)\n",
    "        \n",
    "    return hadamard_result"
   ]
  },
  {
   "cell_type": "code",
   "execution_count": 6,
   "id": "1ccbfcd3-7c53-4cb0-b8b1-bdd3527e2825",
   "metadata": {},
   "outputs": [
    {
     "name": "stdout",
     "output_type": "stream",
     "text": [
      "The qubit register is:\n",
      " [[1.+0.j]\n",
      " [0.+0.j]\n",
      " [0.+0.j]\n",
      " [0.+0.j]\n",
      " [0.+0.j]\n",
      " [0.+0.j]\n",
      " [0.+0.j]\n",
      " [0.+0.j]]\n"
     ]
    }
   ],
   "source": [
    "# print the register\n",
    "psi = qubit_register(N)\n",
    "print(\"The qubit register is:\\n\", psi)\n"
   ]
  },
  {
   "cell_type": "code",
   "execution_count": 7,
   "id": "8499a07b-9bf8-49ee-ab62-94ed69be74bb",
   "metadata": {},
   "outputs": [
    {
     "name": "stdout",
     "output_type": "stream",
     "text": [
      "The measured basis state is:\n",
      "| 000 >\n"
     ]
    }
   ],
   "source": [
    "# print the basis state\n",
    "measurement = measure_Sz(psi)\n",
    "print(\"The measured basis state is:\\n|\",np.binary_repr(measurement, width = N),\">\")"
   ]
  },
  {
   "cell_type": "code",
   "execution_count": 8,
   "id": "535f5c50-3a09-4b8f-a118-305be7d43c53",
   "metadata": {},
   "outputs": [
    {
     "name": "stdout",
     "output_type": "stream",
     "text": [
      "The resulting Hadamard is:\n",
      " [[ 0.35355339  0.35355339  0.35355339  0.35355339  0.35355339  0.35355339\n",
      "   0.35355339  0.35355339]\n",
      " [ 0.35355339 -0.35355339  0.35355339 -0.35355339  0.35355339 -0.35355339\n",
      "   0.35355339 -0.35355339]\n",
      " [ 0.35355339  0.35355339 -0.35355339 -0.35355339  0.35355339  0.35355339\n",
      "  -0.35355339 -0.35355339]\n",
      " [ 0.35355339 -0.35355339 -0.35355339  0.35355339  0.35355339 -0.35355339\n",
      "  -0.35355339  0.35355339]\n",
      " [ 0.35355339  0.35355339  0.35355339  0.35355339 -0.35355339 -0.35355339\n",
      "  -0.35355339 -0.35355339]\n",
      " [ 0.35355339 -0.35355339  0.35355339 -0.35355339 -0.35355339  0.35355339\n",
      "  -0.35355339  0.35355339]\n",
      " [ 0.35355339  0.35355339 -0.35355339 -0.35355339 -0.35355339 -0.35355339\n",
      "   0.35355339  0.35355339]\n",
      " [ 0.35355339 -0.35355339 -0.35355339  0.35355339 -0.35355339  0.35355339\n",
      "   0.35355339 -0.35355339]]\n"
     ]
    }
   ],
   "source": [
    "# print the Hadamard transformed\n",
    "hadamard = hadamard_transform(N)\n",
    "print(\"The resulting Hadamard is:\\n\", hadamard)"
   ]
  },
  {
   "cell_type": "code",
   "execution_count": 9,
   "id": "cee864e7-957d-4ab2-9f61-a7d18320b7ce",
   "metadata": {},
   "outputs": [
    {
     "name": "stdout",
     "output_type": "stream",
     "text": [
      "The checked Hadamard without the amplitude is:\n",
      " [[ 1.  1.  1.  1.  1.  1.  1.  1.]\n",
      " [ 1. -1.  1. -1.  1. -1.  1. -1.]\n",
      " [ 1.  1. -1. -1.  1.  1. -1. -1.]\n",
      " [ 1. -1. -1.  1.  1. -1. -1.  1.]\n",
      " [ 1.  1.  1.  1. -1. -1. -1. -1.]\n",
      " [ 1. -1.  1. -1. -1.  1. -1.  1.]\n",
      " [ 1.  1. -1. -1. -1. -1.  1.  1.]\n",
      " [ 1. -1. -1.  1. -1.  1.  1. -1.]]\n"
     ]
    }
   ],
   "source": [
    "# checks the Hadamard is correct by dividing by the amplitude\n",
    "hadamard_check = hadamard / (1 / (2**(N/2)))\n",
    "print(\"The checked Hadamard without the amplitude is:\\n\", hadamard_check)"
   ]
  }
 ],
 "metadata": {
  "kernelspec": {
   "display_name": "Python 3 (ipykernel)",
   "language": "python",
   "name": "python3"
  },
  "language_info": {
   "codemirror_mode": {
    "name": "ipython",
    "version": 3
   },
   "file_extension": ".py",
   "mimetype": "text/x-python",
   "name": "python",
   "nbconvert_exporter": "python",
   "pygments_lexer": "ipython3",
   "version": "3.11.7"
  }
 },
 "nbformat": 4,
 "nbformat_minor": 5
}
