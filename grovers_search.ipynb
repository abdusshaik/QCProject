{
 "cells": [
  {
   "cell_type": "code",
   "execution_count": 32,
   "id": "0585768b-74f4-4b24-a99f-274743231b84",
   "metadata": {},
   "outputs": [],
   "source": [
    "# import necessary packages\n",
    "import numpy as np\n",
    "import scipy as sci\n",
    "import matplotlib as plt"
   ]
  },
  {
   "cell_type": "code",
   "execution_count": 47,
   "id": "927816d1-2b83-4192-a2f1-02ad9f33b16f",
   "metadata": {},
   "outputs": [],
   "source": [
    "# define number of qubits\n",
    "N = 3"
   ]
  },
  {
   "cell_type": "code",
   "execution_count": 34,
   "id": "c3e8705e-a13f-49bc-a501-4420431acde0",
   "metadata": {},
   "outputs": [],
   "source": [
    "# create qubit register with all states being at equal probability of 0 state with amplitude 1/sqrt(2^N)\n",
    "def qubit_register(N):\n",
    "    \n",
    "    # initialize column vector\n",
    "    psi = 1 / np.sqrt(2**N) * np.zeros((2**N, 1), dtype=complex)\n",
    "    psi[0] = 1\n",
    "    \n",
    "    return psi"
   ]
  },
  {
   "cell_type": "code",
   "execution_count": 35,
   "id": "8c3291ff-1c8e-4ca8-ae1b-403361e50c9f",
   "metadata": {},
   "outputs": [],
   "source": [
    "# measure probability of each basis state\n",
    "def measure_Sz(state):\n",
    "    \n",
    "    probabilities = np.abs(state)**2\n",
    "    \n",
    "    # select a basis state randomly according to the probabilities\n",
    "    measurement = np.random.choice(np.arange(len(state)), p=probabilities.ravel())\n",
    "    \n",
    "    return measurement"
   ]
  },
  {
   "cell_type": "code",
   "execution_count": 36,
   "id": "6f80d79f-59a8-401c-9767-e94847ce3365",
   "metadata": {},
   "outputs": [],
   "source": [
    "# perform Hadamard transformation for any N\n",
    "def hadamard_transform(N):\n",
    "    # define the initial Hadamard matrix\n",
    "    hadamard_initial = 1 / np.sqrt(2) * np.array([[1, 1], [1, -1]])\n",
    "\n",
    "    # number of iterations for the transformation\n",
    "    num_iterations = N - 1\n",
    "\n",
    "    # initialize the resulting tensor product matrix\n",
    "    hadamard_result = hadamard_initial\n",
    "\n",
    "    # perform tensor product iteratively\n",
    "    for i in range(num_iterations):\n",
    "        hadamard_result = np.kron(hadamard_initial, hadamard_result)\n",
    "        \n",
    "    return hadamard_result\n"
   ]
  },
  {
   "cell_type": "code",
   "execution_count": 37,
   "id": "940db800",
   "metadata": {},
   "outputs": [],
   "source": [
    "# creates the oracle matrix\n",
    "def create_oracle(N, target):\n",
    "    # creates an identity matrix of 1's on the diagonal\n",
    "    oracle = np.eye(2**N)\n",
    "\n",
    "    # sets a -1 \n",
    "    oracle[target - 1, target - 1] = -1\n",
    "\n",
    "    return oracle"
   ]
  },
  {
   "cell_type": "code",
   "execution_count": 38,
   "id": "1ccbfcd3-7c53-4cb0-b8b1-bdd3527e2825",
   "metadata": {},
   "outputs": [
    {
     "name": "stdout",
     "output_type": "stream",
     "text": [
      "The qubit register is:\n",
      " [[1.+0.j]\n",
      " [0.+0.j]\n",
      " [0.+0.j]\n",
      " [0.+0.j]]\n"
     ]
    }
   ],
   "source": [
    "# print the register\n",
    "psi = qubit_register(N)\n",
    "print(\"The qubit register is:\\n\", psi)\n"
   ]
  },
  {
   "cell_type": "code",
   "execution_count": 39,
   "id": "8499a07b-9bf8-49ee-ab62-94ed69be74bb",
   "metadata": {},
   "outputs": [
    {
     "name": "stdout",
     "output_type": "stream",
     "text": [
      "The measured basis state is:\n",
      "| 00 >\n"
     ]
    }
   ],
   "source": [
    "# print the basis state\n",
    "measurement = measure_Sz(psi)\n",
    "print(\"The measured basis state is:\\n|\",np.binary_repr(measurement, width = N),\">\")"
   ]
  },
  {
   "cell_type": "code",
   "execution_count": 40,
   "id": "535f5c50-3a09-4b8f-a118-305be7d43c53",
   "metadata": {},
   "outputs": [
    {
     "name": "stdout",
     "output_type": "stream",
     "text": [
      "The resulting Hadamard is:\n",
      " [[ 0.5  0.5  0.5  0.5]\n",
      " [ 0.5 -0.5  0.5 -0.5]\n",
      " [ 0.5  0.5 -0.5 -0.5]\n",
      " [ 0.5 -0.5 -0.5  0.5]]\n"
     ]
    }
   ],
   "source": [
    "# print the Hadamard transformed\n",
    "hadamard = hadamard_transform(N)\n",
    "print(\"The resulting Hadamard is:\\n\", hadamard)"
   ]
  },
  {
   "cell_type": "code",
   "execution_count": 41,
   "id": "cee864e7-957d-4ab2-9f61-a7d18320b7ce",
   "metadata": {},
   "outputs": [
    {
     "name": "stdout",
     "output_type": "stream",
     "text": [
      "The checked Hadamard without the amplitude is:\n",
      " [[ 1.  1.  1.  1.]\n",
      " [ 1. -1.  1. -1.]\n",
      " [ 1.  1. -1. -1.]\n",
      " [ 1. -1. -1.  1.]]\n"
     ]
    }
   ],
   "source": [
    "# checks the Hadamard is correct by dividing by the amplitude\n",
    "hadamard_check = hadamard / (1 / (2**(N/2)))\n",
    "print(\"The checked Hadamard without the amplitude is:\\n\", hadamard_check)"
   ]
  },
  {
   "cell_type": "code",
   "execution_count": 42,
   "id": "f7f62a35",
   "metadata": {},
   "outputs": [
    {
     "name": "stdout",
     "output_type": "stream",
     "text": [
      "The target state is:\n",
      " | 10 >\n"
     ]
    }
   ],
   "source": [
    "# sets the target state so that all digits are 1,1,1...1,0\n",
    "target = (2**N) - 1\n",
    "\n",
    "# converts the state to an array\n",
    "target_state = [1] * (N - 1)\n",
    "target_state.append(0)\n",
    "\n",
    "# converts the array to a string for ease of printing\n",
    "target_state_print = ''.join(str(x) for x in target_state)\n",
    "\n",
    "print(\"The target state is:\\n\", \"|\", target_state_print, \">\")"
   ]
  },
  {
   "cell_type": "code",
   "execution_count": 43,
   "id": "04dc048f",
   "metadata": {},
   "outputs": [
    {
     "name": "stdout",
     "output_type": "stream",
     "text": [
      "[[ 1.  0.  0.  0.]\n",
      " [ 0.  1.  0.  0.]\n",
      " [ 0.  0. -1.  0.]\n",
      " [ 0.  0.  0.  1.]]\n"
     ]
    }
   ],
   "source": [
    "# creates the oracle matrix\n",
    "oracle_state = create_oracle(N, target)\n",
    "print(oracle_state)"
   ]
  },
  {
   "cell_type": "code",
   "execution_count": 44,
   "id": "32ddf5da",
   "metadata": {},
   "outputs": [
    {
     "name": "stdout",
     "output_type": "stream",
     "text": [
      "[[ 1.+0.j  0.+0.j  0.+0.j  0.+0.j  0.+0.j  0.+0.j  0.+0.j  0.+0.j]\n",
      " [ 0.+0.j -1.+0.j  0.+0.j  0.+0.j  0.+0.j  0.+0.j  0.+0.j  0.+0.j]\n",
      " [ 0.+0.j  0.+0.j -1.+0.j  0.+0.j  0.+0.j  0.+0.j  0.+0.j  0.+0.j]\n",
      " [ 0.+0.j  0.+0.j  0.+0.j -1.+0.j  0.+0.j  0.+0.j  0.+0.j  0.+0.j]\n",
      " [ 0.+0.j  0.+0.j  0.+0.j  0.+0.j -1.+0.j  0.+0.j  0.+0.j  0.+0.j]\n",
      " [ 0.+0.j  0.+0.j  0.+0.j  0.+0.j  0.+0.j -1.+0.j  0.+0.j  0.+0.j]\n",
      " [ 0.+0.j  0.+0.j  0.+0.j  0.+0.j  0.+0.j  0.+0.j -1.+0.j  0.+0.j]\n",
      " [ 0.+0.j  0.+0.j  0.+0.j  0.+0.j  0.+0.j  0.+0.j  0.+0.j -1.+0.j]]\n"
     ]
    }
   ],
   "source": [
    "def diffusion_operator(N):\n",
    "    # Define superposition state\n",
    "    s = np.zeros((2**N, 1), dtype=complex) #/ np.sqrt(2**N)\n",
    "    s[0][0]=1\n",
    "    \n",
    "    #print(s)\n",
    "    #print(s.T.conj())\n",
    "    \n",
    "    # Compute |s><s|\n",
    "    ss_dagger = np.dot(s,s.T.conj())\n",
    "    # ID Matric\n",
    "    identity = np.eye(2**N)\n",
    "    # Diffusion Operator\n",
    "    diffusion =  (2 * ss_dagger) - identity \n",
    "    return diffusion\n",
    "diffuse= diffusion_operator(3)\n",
    "print(diffuse)"
   ]
  },
  {
   "cell_type": "code",
   "execution_count": 45,
   "id": "745554c1",
   "metadata": {},
   "outputs": [
    {
     "name": "stdout",
     "output_type": "stream",
     "text": [
      "[[-1.  0.  0.  0.]\n",
      " [ 0.  1.  0.  0.]\n",
      " [ 0.  0.  1.  0.]\n",
      " [ 0.  0.  0.  1.]]\n"
     ]
    }
   ],
   "source": [
    "#This is a budget diffusion operator, because only works for N=3 \n",
    "budgetDiffusion= np.eye((2**N))\n",
    "budgetDiffusion[0][0] =-1\n",
    "print(budgetDiffusion)"
   ]
  },
  {
   "cell_type": "code",
   "execution_count": 48,
   "id": "49ca8702",
   "metadata": {},
   "outputs": [
    {
     "name": "stdout",
     "output_type": "stream",
     "text": [
      "[[0.35355339+0.j]\n",
      " [0.35355339+0.j]\n",
      " [0.35355339+0.j]\n",
      " [0.35355339+0.j]\n",
      " [0.35355339+0.j]\n",
      " [0.35355339+0.j]\n",
      " [0.35355339+0.j]\n",
      " [0.35355339+0.j]]\n",
      "2\n",
      "[[0.03125]\n",
      " [0.03125]\n",
      " [0.78125]\n",
      " [0.03125]\n",
      " [0.03125]\n",
      " [0.03125]\n",
      " [0.03125]\n",
      " [0.03125]]\n",
      "[[0.0078125]\n",
      " [0.0078125]\n",
      " [0.9453125]\n",
      " [0.0078125]\n",
      " [0.0078125]\n",
      " [0.0078125]\n",
      " [0.0078125]\n",
      " [0.0078125]]\n"
     ]
    }
   ],
   "source": [
    "#For a N qubit register \n",
    "N=3\n",
    "\n",
    "#qubit register gives us the intiial state\n",
    "psi = qubit_register(N)\n",
    "#print(psi)\n",
    "\n",
    "#Apply hadamard Tranform\n",
    "hTransform=hadamard_transform(N)\n",
    "psi2=  np.matmul(hTransform,psi)\n",
    "print(psi2)\n",
    "\n",
    "#Grover iteration time\n",
    "oracle= create_oracle(N,target)\n",
    "diffOpp = diffusion_operator(N)\n",
    "#print(diffOpp)\n",
    "\n",
    "check = np.dot(hTransform,diffOpp)\n",
    "check2 = np.dot(hTransform,check)\n",
    "\n",
    "#print((np.round(check2)))\n",
    "\n",
    "loopAmount=((np.pi/4) * np.sqrt(2**N))\n",
    "loopAmount= loopAmount.astype(int)\n",
    "print(loopAmount)\n",
    "for i in range(0,loopAmount):\n",
    "    grover1 = np.matmul(oracle,psi2)\n",
    "    grover2 = np.matmul(hTransform,grover1)\n",
    "    grover3 = np.matmul(diffOpp,grover2)\n",
    "    grover4 = np.matmul(hTransform,grover3)\n",
    "    psi2= grover4\n",
    "    print(np.abs(psi2)**2)\n"
   ]
  },
  {
   "cell_type": "code",
   "execution_count": null,
   "id": "0e7791f0",
   "metadata": {},
   "outputs": [],
   "source": []
  },
  {
   "cell_type": "code",
   "execution_count": null,
   "id": "55eefc22",
   "metadata": {},
   "outputs": [],
   "source": [
    "\n"
   ]
  },
  {
   "cell_type": "code",
   "execution_count": null,
   "id": "586d6151",
   "metadata": {},
   "outputs": [],
   "source": []
  }
 ],
 "metadata": {
  "kernelspec": {
   "display_name": "Python 3 (ipykernel)",
   "language": "python",
   "name": "python3"
  },
  "language_info": {
   "codemirror_mode": {
    "name": "ipython",
    "version": 3
   },
   "file_extension": ".py",
   "mimetype": "text/x-python",
   "name": "python",
   "nbconvert_exporter": "python",
   "pygments_lexer": "ipython3",
   "version": "3.9.12"
  }
 },
 "nbformat": 4,
 "nbformat_minor": 5
}
