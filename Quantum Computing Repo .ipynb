{
 "cells": [
  {
   "cell_type": "code",
   "execution_count": 21,
   "id": "529957f6",
   "metadata": {},
   "outputs": [],
   "source": [
    "# import necessary packages\n",
    "import numpy as np\n",
    "import scipy as sci\n",
    "import matplotlib as plt"
   ]
  },
  {
   "cell_type": "code",
   "execution_count": 22,
   "id": "f0454775",
   "metadata": {},
   "outputs": [],
   "source": [
    "class QuantumRegister:\n",
    "    def __init__(self, N):\n",
    "        # Initialize column vector\n",
    "        self.N = N\n",
    "        self.psi = 1 / np.sqrt(2**self.N) * np.zeros((2**N, 1), dtype=complex)\n",
    "        # Set the amplitude of the first state\n",
    "        self.psi[0] = 1\n",
    "    \n",
    "    def get_register(self):\n",
    "        # Method to return the quantum state\n",
    "        return self.psi\n",
    "    \n",
    "    def get_probabilities(self):\n",
    "        return np.abs(self.psi)**2\n",
    "\n",
    "    def measure_state(self):\n",
    "        probabilities = np.abs(self.psi)**2\n",
    "        # select a basis state randomly according to the probabilities\n",
    "        measurement = np.random.choice(np.arange(len(self.psi)), p=probabilities.ravel())\n",
    "        return \"| \" + np.binary_repr(measurement, width = self.N) + \" >\"\n",
    "\n",
    "    def target_state(self):\n",
    "        target = [1] * (self.N - 1)\n",
    "        target.append(0)\n",
    "        targetPrint = ''.join(str(x) for x in target)\n",
    "        return \"| \" + targetPrint + \" >\"\n",
    "\n",
    "    def ApplyGate(self,gate):\n",
    "        self.psi = np.matmul(gate,self.psi)\n",
    "\n",
    "    "
   ]
  },
  {
   "cell_type": "code",
   "execution_count": 23,
   "id": "81afd3e0",
   "metadata": {},
   "outputs": [],
   "source": [
    "class Hadamard:   \n",
    "    @staticmethod\n",
    "    def HadamardTransform(N):\n",
    "        # define the initial Hadamard matrix\n",
    "        hadamard_initial = 1 / np.sqrt(2) * np.array([[1, 1], [1, -1]])\n",
    "\n",
    "        # number of iterations for the transformation\n",
    "        num_iterations = N - 1\n",
    "\n",
    "        # initialize the resulting tensor product matrix\n",
    "        hadamard_result = hadamard_initial\n",
    "\n",
    "        # perform tensor product iteratively\n",
    "        for i in range(num_iterations):\n",
    "            hadamard_result = np.kron(hadamard_initial, hadamard_result)\n",
    "\n",
    "        return hadamard_result\n",
    "    \n",
    "    @staticmethod\n",
    "    def ApplyHadamard(QuantReg):\n",
    "        N = QuantReg.N\n",
    "        HadamardGate = Hadamard.HadamardTransform(N)\n",
    "        QuantReg.ApplyGate(HadamardGate)"
   ]
  },
  {
   "cell_type": "code",
   "execution_count": 24,
   "id": "a1dc922c",
   "metadata": {},
   "outputs": [],
   "source": [
    "class Oracle:\n",
    "    @staticmethod\n",
    "    def OracleGate(N,target):\n",
    "        #initialise oracle matric with target\n",
    "        oracleInitalise = np.eye(2**N)\n",
    "        oracleInitalise[target -1][target-1]=-1\n",
    "        \n",
    "        return oracleInitalise\n",
    "    \n",
    "    @staticmethod\n",
    "    def ApplyOracle(QuantReg):\n",
    "        N = QuantReg.N\n",
    "        target = (2**N) - 1\n",
    "        OracleOperator = Oracle.OracleGate(N,target)\n",
    "        QuantReg.ApplyGate(OracleOperator)"
   ]
  },
  {
   "cell_type": "code",
   "execution_count": 25,
   "id": "f2d6b45f",
   "metadata": {},
   "outputs": [],
   "source": [
    "class Diffusion:\n",
    "    @staticmethod\n",
    "    def DiffusionOperator(N):\n",
    "        # Define superposition state\n",
    "        s = np.zeros((2**N, 1), dtype=complex) #/ np.sqrt(2**N)\n",
    "        s[0][0]=1\n",
    "        # Compute |s><s|\n",
    "        ss_dagger = np.dot(s,s.T.conj())\n",
    "        # ID Matric\n",
    "        identity = np.eye(2**N)\n",
    "        # Diffusion Operator\n",
    "        diffusion =  (2 * ss_dagger) - identity \n",
    "        return diffusion\n",
    "    \n",
    "    @staticmethod\n",
    "    def ApplyDiffusion(QuantReg):\n",
    "        N = QuantReg.N\n",
    "        DiffusionGate = Diffusion.DiffusionOperator(N)\n",
    "        QuantReg.ApplyGate(DiffusionGate)"
   ]
  },
  {
   "cell_type": "code",
   "execution_count": 26,
   "id": "bbe99843",
   "metadata": {},
   "outputs": [],
   "source": [
    "class Grover:\n",
    "    @staticmethod\n",
    "    def ApplyAlgorithm(QuantReg):\n",
    "        N = QuantReg.N\n",
    "        IdealLoop = ((np.pi/4) * np.sqrt(2**N)).astype(int)\n",
    "        Hadamard.ApplyHadamard(QuantReg)\n",
    "        for i in range(IdealLoop):\n",
    "            Oracle.ApplyOracle(QuantReg)\n",
    "            Hadamard.ApplyHadamard(QuantReg)\n",
    "            Diffusion.ApplyDiffusion(QuantReg)\n",
    "            Hadamard.ApplyHadamard(QuantReg)\n",
    "        "
   ]
  },
  {
   "cell_type": "markdown",
   "id": "a842c1cd",
   "metadata": {},
   "source": []
  },
  {
   "cell_type": "code",
   "execution_count": 27,
   "id": "b94a526f",
   "metadata": {},
   "outputs": [
    {
     "name": "stdout",
     "output_type": "stream",
     "text": [
      "[[1.+0.j]\n",
      " [0.+0.j]\n",
      " [0.+0.j]\n",
      " [0.+0.j]\n",
      " [0.+0.j]\n",
      " [0.+0.j]\n",
      " [0.+0.j]\n",
      " [0.+0.j]]\n",
      "Current State:  | 000 >\n",
      "Target State:   | 110 >\n",
      "[[0.0078125]\n",
      " [0.0078125]\n",
      " [0.0078125]\n",
      " [0.0078125]\n",
      " [0.0078125]\n",
      " [0.0078125]\n",
      " [0.9453125]\n",
      " [0.0078125]]\n",
      "| 110 >\n"
     ]
    }
   ],
   "source": [
    "\"\"\"\n",
    "TESTING BLOCK\n",
    "\"\"\"\n",
    "\n",
    "\"\"\"creates the quantum register \"\"\"\n",
    "N=3\n",
    "target = 7\n",
    "quantum_Register1 = QuantumRegister(N)\n",
    "print(quantum_Register1.get_register())\n",
    "print(\"Current State: \",quantum_Register1.measure_state())\n",
    "print(\"Target State:  \",quantum_Register1.target_state())\n",
    "\n",
    "\"\"\"operating on the register using the gates\"\"\"\n",
    "#Applying the Hadamard\n",
    "Hcheck = Hadamard.HadamardTransform(N)\n",
    "#print(Hcheck)\n",
    "\n",
    "#Applying the Diffusion Operator\n",
    "diffuse =  Diffusion.DiffusionOperator(N)\n",
    "#print(diffuse)\n",
    "\n",
    "#Applying the Oracle\n",
    "Ocheck = Oracle.OracleGate(N,target)\n",
    "#print(Ocheck)\n",
    "\n",
    "\"\"\"Trying to work Grovers\"\"\"\n",
    "Hadamard.ApplyHadamard(quantum_Register1)\n",
    "for i in range(2):\n",
    "    Oracle.ApplyOracle(quantum_Register1)\n",
    "    Hadamard.ApplyHadamard(quantum_Register1)\n",
    "    Diffusion.ApplyDiffusion(quantum_Register1)\n",
    "    Hadamard.ApplyHadamard(quantum_Register1)\n",
    "print(quantum_Register1.get_probabilities())\n",
    "print(quantum_Register1.measure_state())\n"
   ]
  },
  {
   "cell_type": "code",
   "execution_count": 28,
   "id": "6ed1ad93",
   "metadata": {},
   "outputs": [
    {
     "name": "stdout",
     "output_type": "stream",
     "text": [
      "Begin State:  | 000 >\n",
      "[[1.]\n",
      " [0.]\n",
      " [0.]\n",
      " [0.]\n",
      " [0.]\n",
      " [0.]\n",
      " [0.]\n",
      " [0.]]\n",
      "After Algorithm:  | 110 >\n",
      "[[0.0078125]\n",
      " [0.0078125]\n",
      " [0.0078125]\n",
      " [0.0078125]\n",
      " [0.0078125]\n",
      " [0.0078125]\n",
      " [0.9453125]\n",
      " [0.0078125]]\n"
     ]
    }
   ],
   "source": [
    "qr = QuantumRegister(3)\n",
    "print(\"Begin State: \", qr.measure_state())\n",
    "print(qr.get_probabilities())\n",
    "\n",
    "\n",
    "Grover.ApplyAlgorithm(qr)\n",
    "print(\"After Algorithm: \", qr.measure_state())\n",
    "print(qr.get_probabilities())"
   ]
  },
  {
   "cell_type": "code",
   "execution_count": 30,
   "id": "89fec7d5",
   "metadata": {},
   "outputs": [
    {
     "name": "stdout",
     "output_type": "stream",
     "text": [
      "Begin State:  | 000000000000 >\n",
      "[[1.]\n",
      " [0.]\n",
      " [0.]\n",
      " ...\n",
      " [0.]\n",
      " [0.]\n",
      " [0.]]\n"
     ]
    },
    {
     "ename": "KeyboardInterrupt",
     "evalue": "",
     "output_type": "error",
     "traceback": [
      "\u001b[0;31m---------------------------------------------------------------------------\u001b[0m",
      "\u001b[0;31mKeyboardInterrupt\u001b[0m                         Traceback (most recent call last)",
      "\u001b[0;32m/var/folders/lt/26xjp_ts6f3c_h6x95r6_ppr0000gn/T/ipykernel_26668/1060925177.py\u001b[0m in \u001b[0;36m<module>\u001b[0;34m\u001b[0m\n\u001b[1;32m      4\u001b[0m \u001b[0;34m\u001b[0m\u001b[0m\n\u001b[1;32m      5\u001b[0m \u001b[0;34m\u001b[0m\u001b[0m\n\u001b[0;32m----> 6\u001b[0;31m \u001b[0mGrover\u001b[0m\u001b[0;34m.\u001b[0m\u001b[0mApplyAlgorithm\u001b[0m\u001b[0;34m(\u001b[0m\u001b[0mqrBig\u001b[0m\u001b[0;34m)\u001b[0m\u001b[0;34m\u001b[0m\u001b[0;34m\u001b[0m\u001b[0m\n\u001b[0m\u001b[1;32m      7\u001b[0m \u001b[0mprint\u001b[0m\u001b[0;34m(\u001b[0m\u001b[0;34m\"After Algorithm: \"\u001b[0m\u001b[0;34m,\u001b[0m \u001b[0mqrBig\u001b[0m\u001b[0;34m.\u001b[0m\u001b[0mmeasure_state\u001b[0m\u001b[0;34m(\u001b[0m\u001b[0;34m)\u001b[0m\u001b[0;34m)\u001b[0m\u001b[0;34m\u001b[0m\u001b[0;34m\u001b[0m\u001b[0m\n\u001b[1;32m      8\u001b[0m \u001b[0mprint\u001b[0m\u001b[0;34m(\u001b[0m\u001b[0mqrBig\u001b[0m\u001b[0;34m.\u001b[0m\u001b[0mget_probabilities\u001b[0m\u001b[0;34m(\u001b[0m\u001b[0;34m)\u001b[0m\u001b[0;34m)\u001b[0m\u001b[0;34m\u001b[0m\u001b[0;34m\u001b[0m\u001b[0m\n",
      "\u001b[0;32m/var/folders/lt/26xjp_ts6f3c_h6x95r6_ppr0000gn/T/ipykernel_26668/3958590326.py\u001b[0m in \u001b[0;36mApplyAlgorithm\u001b[0;34m(QuantReg)\u001b[0m\n\u001b[1;32m      7\u001b[0m         \u001b[0;32mfor\u001b[0m \u001b[0mi\u001b[0m \u001b[0;32min\u001b[0m \u001b[0mrange\u001b[0m\u001b[0;34m(\u001b[0m\u001b[0mIdealLoop\u001b[0m\u001b[0;34m)\u001b[0m\u001b[0;34m:\u001b[0m\u001b[0;34m\u001b[0m\u001b[0;34m\u001b[0m\u001b[0m\n\u001b[1;32m      8\u001b[0m             \u001b[0mOracle\u001b[0m\u001b[0;34m.\u001b[0m\u001b[0mApplyOracle\u001b[0m\u001b[0;34m(\u001b[0m\u001b[0mQuantReg\u001b[0m\u001b[0;34m)\u001b[0m\u001b[0;34m\u001b[0m\u001b[0;34m\u001b[0m\u001b[0m\n\u001b[0;32m----> 9\u001b[0;31m             \u001b[0mHadamard\u001b[0m\u001b[0;34m.\u001b[0m\u001b[0mApplyHadamard\u001b[0m\u001b[0;34m(\u001b[0m\u001b[0mQuantReg\u001b[0m\u001b[0;34m)\u001b[0m\u001b[0;34m\u001b[0m\u001b[0;34m\u001b[0m\u001b[0m\n\u001b[0m\u001b[1;32m     10\u001b[0m             \u001b[0mDiffusion\u001b[0m\u001b[0;34m.\u001b[0m\u001b[0mApplyDiffusion\u001b[0m\u001b[0;34m(\u001b[0m\u001b[0mQuantReg\u001b[0m\u001b[0;34m)\u001b[0m\u001b[0;34m\u001b[0m\u001b[0;34m\u001b[0m\u001b[0m\n\u001b[1;32m     11\u001b[0m             \u001b[0mHadamard\u001b[0m\u001b[0;34m.\u001b[0m\u001b[0mApplyHadamard\u001b[0m\u001b[0;34m(\u001b[0m\u001b[0mQuantReg\u001b[0m\u001b[0;34m)\u001b[0m\u001b[0;34m\u001b[0m\u001b[0;34m\u001b[0m\u001b[0m\n",
      "\u001b[0;32m/var/folders/lt/26xjp_ts6f3c_h6x95r6_ppr0000gn/T/ipykernel_26668/3245694154.py\u001b[0m in \u001b[0;36mApplyHadamard\u001b[0;34m(QuantReg)\u001b[0m\n\u001b[1;32m     20\u001b[0m     \u001b[0;32mdef\u001b[0m \u001b[0mApplyHadamard\u001b[0m\u001b[0;34m(\u001b[0m\u001b[0mQuantReg\u001b[0m\u001b[0;34m)\u001b[0m\u001b[0;34m:\u001b[0m\u001b[0;34m\u001b[0m\u001b[0;34m\u001b[0m\u001b[0m\n\u001b[1;32m     21\u001b[0m         \u001b[0mN\u001b[0m \u001b[0;34m=\u001b[0m \u001b[0mQuantReg\u001b[0m\u001b[0;34m.\u001b[0m\u001b[0mN\u001b[0m\u001b[0;34m\u001b[0m\u001b[0;34m\u001b[0m\u001b[0m\n\u001b[0;32m---> 22\u001b[0;31m         \u001b[0mHadamardGate\u001b[0m \u001b[0;34m=\u001b[0m \u001b[0mHadamard\u001b[0m\u001b[0;34m.\u001b[0m\u001b[0mHadamardTransform\u001b[0m\u001b[0;34m(\u001b[0m\u001b[0mN\u001b[0m\u001b[0;34m)\u001b[0m\u001b[0;34m\u001b[0m\u001b[0;34m\u001b[0m\u001b[0m\n\u001b[0m\u001b[1;32m     23\u001b[0m         \u001b[0mQuantReg\u001b[0m\u001b[0;34m.\u001b[0m\u001b[0mApplyGate\u001b[0m\u001b[0;34m(\u001b[0m\u001b[0mHadamardGate\u001b[0m\u001b[0;34m)\u001b[0m\u001b[0;34m\u001b[0m\u001b[0;34m\u001b[0m\u001b[0m\n",
      "\u001b[0;32m/var/folders/lt/26xjp_ts6f3c_h6x95r6_ppr0000gn/T/ipykernel_26668/3245694154.py\u001b[0m in \u001b[0;36mHadamardTransform\u001b[0;34m(N)\u001b[0m\n\u001b[1;32m     13\u001b[0m         \u001b[0;31m# perform tensor product iteratively\u001b[0m\u001b[0;34m\u001b[0m\u001b[0;34m\u001b[0m\u001b[0m\n\u001b[1;32m     14\u001b[0m         \u001b[0;32mfor\u001b[0m \u001b[0mi\u001b[0m \u001b[0;32min\u001b[0m \u001b[0mrange\u001b[0m\u001b[0;34m(\u001b[0m\u001b[0mnum_iterations\u001b[0m\u001b[0;34m)\u001b[0m\u001b[0;34m:\u001b[0m\u001b[0;34m\u001b[0m\u001b[0;34m\u001b[0m\u001b[0m\n\u001b[0;32m---> 15\u001b[0;31m             \u001b[0mhadamard_result\u001b[0m \u001b[0;34m=\u001b[0m \u001b[0mnp\u001b[0m\u001b[0;34m.\u001b[0m\u001b[0mkron\u001b[0m\u001b[0;34m(\u001b[0m\u001b[0mhadamard_initial\u001b[0m\u001b[0;34m,\u001b[0m \u001b[0mhadamard_result\u001b[0m\u001b[0;34m)\u001b[0m\u001b[0;34m\u001b[0m\u001b[0;34m\u001b[0m\u001b[0m\n\u001b[0m\u001b[1;32m     16\u001b[0m \u001b[0;34m\u001b[0m\u001b[0m\n\u001b[1;32m     17\u001b[0m         \u001b[0;32mreturn\u001b[0m \u001b[0mhadamard_result\u001b[0m\u001b[0;34m\u001b[0m\u001b[0;34m\u001b[0m\u001b[0m\n",
      "\u001b[0;32m<__array_function__ internals>\u001b[0m in \u001b[0;36mkron\u001b[0;34m(*args, **kwargs)\u001b[0m\n",
      "\u001b[0;32m~/opt/anaconda3/lib/python3.9/site-packages/numpy/lib/shape_base.py\u001b[0m in \u001b[0;36mkron\u001b[0;34m(a, b)\u001b[0m\n\u001b[1;32m   1155\u001b[0m     \u001b[0maxis\u001b[0m \u001b[0;34m=\u001b[0m \u001b[0mnd\u001b[0m\u001b[0;34m-\u001b[0m\u001b[0;36m1\u001b[0m\u001b[0;34m\u001b[0m\u001b[0;34m\u001b[0m\u001b[0m\n\u001b[1;32m   1156\u001b[0m     \u001b[0;32mfor\u001b[0m \u001b[0m_\u001b[0m \u001b[0;32min\u001b[0m \u001b[0mrange\u001b[0m\u001b[0;34m(\u001b[0m\u001b[0mnd\u001b[0m\u001b[0;34m)\u001b[0m\u001b[0;34m:\u001b[0m\u001b[0;34m\u001b[0m\u001b[0;34m\u001b[0m\u001b[0m\n\u001b[0;32m-> 1157\u001b[0;31m         \u001b[0mresult\u001b[0m \u001b[0;34m=\u001b[0m \u001b[0mconcatenate\u001b[0m\u001b[0;34m(\u001b[0m\u001b[0mresult\u001b[0m\u001b[0;34m,\u001b[0m \u001b[0maxis\u001b[0m\u001b[0;34m=\u001b[0m\u001b[0maxis\u001b[0m\u001b[0;34m)\u001b[0m\u001b[0;34m\u001b[0m\u001b[0;34m\u001b[0m\u001b[0m\n\u001b[0m\u001b[1;32m   1158\u001b[0m     \u001b[0mwrapper\u001b[0m \u001b[0;34m=\u001b[0m \u001b[0mget_array_prepare\u001b[0m\u001b[0;34m(\u001b[0m\u001b[0ma\u001b[0m\u001b[0;34m,\u001b[0m \u001b[0mb\u001b[0m\u001b[0;34m)\u001b[0m\u001b[0;34m\u001b[0m\u001b[0;34m\u001b[0m\u001b[0m\n\u001b[1;32m   1159\u001b[0m     \u001b[0;32mif\u001b[0m \u001b[0mwrapper\u001b[0m \u001b[0;32mis\u001b[0m \u001b[0;32mnot\u001b[0m \u001b[0;32mNone\u001b[0m\u001b[0;34m:\u001b[0m\u001b[0;34m\u001b[0m\u001b[0;34m\u001b[0m\u001b[0m\n",
      "\u001b[0;32m<__array_function__ internals>\u001b[0m in \u001b[0;36mconcatenate\u001b[0;34m(*args, **kwargs)\u001b[0m\n",
      "\u001b[0;31mKeyboardInterrupt\u001b[0m: "
     ]
    }
   ],
   "source": [
    "qrBig = QuantumRegister(12)\n",
    "print(\"Begin State: \", qrBig.measure_state())\n",
    "print(qrBig.get_probabilities())\n",
    "\n",
    "\n",
    "Grover.ApplyAlgorithm(qrBig)\n",
    "print(\"After Algorithm: \", qrBig.measure_state())\n",
    "print(qrBig.get_probabilities())"
   ]
  },
  {
   "cell_type": "code",
   "execution_count": null,
   "id": "422acefd",
   "metadata": {},
   "outputs": [],
   "source": []
  }
 ],
 "metadata": {
  "interpreter": {
   "hash": "ed9264bd804eca024caa153aedf17f90535f1149313d01304d206fc3aaf3875b"
  },
  "kernelspec": {
   "display_name": "Python 3.9.12 64-bit ('base': conda)",
   "name": "python3"
  },
  "language_info": {
   "codemirror_mode": {
    "name": "ipython",
    "version": 3
   },
   "file_extension": ".py",
   "mimetype": "text/x-python",
   "name": "python",
   "nbconvert_exporter": "python",
   "pygments_lexer": "ipython3",
   "version": "3.9.12"
  }
 },
 "nbformat": 4,
 "nbformat_minor": 5
}
