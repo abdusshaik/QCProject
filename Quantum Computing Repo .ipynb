{
 "cells": [
  {
   "cell_type": "code",
   "execution_count": 1,
   "metadata": {},
   "outputs": [
    {
     "name": "stdout",
     "output_type": "stream",
     "text": [
      "hello world\n"
     ]
    }
   ],
   "source": [
    "print(\"hello world\")\n",
    "#hello can you see this new change\n",
    "#please write your name just to make sure we can all edit this\n",
    "#bea\n",
    "#dilara\n",
    "#gabi"
   ]
  },
  {
   "cell_type": "code",
   "execution_count": 2,
   "metadata": {},
   "outputs": [],
   "source": [
    "#Imports\n",
    "import numpy as np\n",
    "import scipy as sci"
   ]
  },
  {
   "cell_type": "code",
   "execution_count": 3,
   "metadata": {},
   "outputs": [],
   "source": [
    "\"\"\"\n",
    "Class for quantum register for n number of qubits\n",
    "\"\"\"\n",
    "def tensor_Product(a,b):\n",
    "    product= a+b\n",
    "    return product\n",
    "\n",
    "class Quantum_Register:\n",
    "    def __init__(self,n):\n",
    "        self.n = n \n",
    "        self.psi = np.zeros((2,)*n)"
   ]
  },
  {
   "cell_type": "code",
   "execution_count": 4,
   "id": "8e9204a6",
   "metadata": {},
   "outputs": [],
   "source": [
    "\"\"\"\n",
    "Class for the quantum circuits \n",
    "\"\"\"\n",
    "class Quantum_Circuit:\n",
    "    def __init__(self):\n",
    "        self = self"
   ]
  },
  {
   "cell_type": "code",
   "execution_count": 5,
   "metadata": {},
   "outputs": [
    {
     "name": "stdout",
     "output_type": "stream",
     "text": [
      "the tensor product is,  3\n",
      "1\n",
      "[0. 0.]\n"
     ]
    }
   ],
   "source": [
    "\"\"\"Testing block \"\"\"\n",
    "print(\"the tensor product is, \", tensor_Product(1,2))\n",
    "newRegister= Quantum_Register(1)\n",
    "print(newRegister.n)\n",
    "print(newRegister.psi)"
   ]
  },
  {
   "cell_type": "code",
   "execution_count": 16,
   "id": "5f9164de",
   "metadata": {},
   "outputs": [],
   "source": [
    "#define number of qubits, N\n",
    "\n",
    "N = 12"
   ]
  },
  {
   "cell_type": "code",
   "execution_count": 17,
   "metadata": {},
   "outputs": [
    {
     "name": "stdout",
     "output_type": "stream",
     "text": [
      "[[0.70710678+0.j]\n",
      " [0.        +0.j]\n",
      " [0.        +0.j]\n",
      " ...\n",
      " [0.        +0.j]\n",
      " [0.        +0.j]\n",
      " [0.70710678+0.j]]\n"
     ]
    }
   ],
   "source": [
    "def qubit_register(N):\n",
    "    psi = np.zeros((2**N, 1), dtype = complex)\n",
    "    psi[0] = 1/(2**(1/2))\n",
    "    psi[2**N-1] = 1/(2**(1/2))\n",
    "    \n",
    "    return psi\n",
    "psi = qubit_register(N)\n",
    "print(psi)"
   ]
  },
  {
   "cell_type": "code",
   "execution_count": null,
   "id": "a3a3ad16",
   "metadata": {},
   "outputs": [],
   "source": []
  }
 ],
 "metadata": {
  "interpreter": {
   "hash": "ed9264bd804eca024caa153aedf17f90535f1149313d01304d206fc3aaf3875b"
  },
  "kernelspec": {
   "display_name": "Python 3.9.12 64-bit ('base': conda)",
   "name": "python3"
  },
  "language_info": {
   "codemirror_mode": {
    "name": "ipython",
    "version": 3
   },
   "file_extension": ".py",
   "mimetype": "text/x-python",
   "name": "python",
   "nbconvert_exporter": "python",
   "pygments_lexer": "ipython3",
   "version": "3.11.5"
  }
 },
 "nbformat": 4,
 "nbformat_minor": 5
}
