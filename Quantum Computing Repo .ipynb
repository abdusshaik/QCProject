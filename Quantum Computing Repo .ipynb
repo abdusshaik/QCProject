{
 "cells": [
  {
   "cell_type": "code",
   "execution_count": 10,
   "source": [
    "print(\"hello world\")\n",
    "#hello can you see this new change\n",
    "#please write your name just to make sure we can all edit this"
   ],
   "outputs": [
    {
     "output_type": "stream",
     "name": "stdout",
     "text": [
      "hello world\n"
     ]
    }
   ],
   "metadata": {}
  },
  {
   "cell_type": "code",
   "execution_count": 11,
   "source": [
    "#Imports\n",
    "import numpy as np\n",
    "import scipy as sci"
   ],
   "outputs": [],
   "metadata": {}
  },
  {
   "cell_type": "code",
   "execution_count": 12,
   "source": [
    "\"\"\"\n",
    "Class for quantum register for n number of qubits\n",
    "\"\"\"\n",
    "def tensor_Product(a,b):\n",
    "    product= a+b\n",
    "    return product\n",
    "\n",
    "class Quantum_Register:\n",
    "    def __init__(self,n):\n",
    "        self.n = n \n",
    "        self.psi = np.zeros((2,)*n)"
   ],
   "outputs": [],
   "metadata": {}
  },
  {
   "cell_type": "code",
   "execution_count": 13,
   "source": [
    "\"\"\"Testing block \"\"\"\n",
    "print(\"the tensor product is, \", tensor_Product(1,2))\n",
    "newRegister= Quantum_Register(1)\n",
    "print(newRegister.n)\n",
    "print(newRegister.psi)"
   ],
   "outputs": [
    {
     "output_type": "stream",
     "name": "stdout",
     "text": [
      "the tensor product is,  3\n",
      "1\n",
      "[0. 0.]\n"
     ]
    }
   ],
   "metadata": {}
  },
  {
   "cell_type": "code",
   "execution_count": null,
   "source": [],
   "outputs": [],
   "metadata": {}
  }
 ],
 "metadata": {
  "language_info": {
   "name": "python",
   "version": "3.9.12",
   "mimetype": "text/x-python",
   "codemirror_mode": {
    "name": "ipython",
    "version": 3
   },
   "pygments_lexer": "ipython3",
   "nbconvert_exporter": "python",
   "file_extension": ".py"
  },
  "kernelspec": {
   "name": "python3",
   "display_name": "Python 3.9.12 64-bit ('base': conda)"
  },
  "interpreter": {
   "hash": "ed9264bd804eca024caa153aedf17f90535f1149313d01304d206fc3aaf3875b"
  }
 },
 "nbformat": 4,
 "nbformat_minor": 5
}