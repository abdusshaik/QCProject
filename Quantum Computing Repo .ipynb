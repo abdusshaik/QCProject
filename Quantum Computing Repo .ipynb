{
 "cells": [
  {
   "cell_type": "code",
   "execution_count": 30,
   "id": "529957f6",
   "metadata": {},
   "outputs": [],
   "source": [
    "# import necessary packages\n",
    "import numpy as np\n",
    "import scipy as sci\n",
    "import matplotlib as plt"
   ]
  },
  {
   "cell_type": "code",
   "execution_count": 31,
   "id": "f0454775",
   "metadata": {},
   "outputs": [],
   "source": [
    "class QuantumRegister:\n",
    "    def __init__(self, N):\n",
    "        # Initialize column vector\n",
    "        self.N = N\n",
    "        self.psi = 1 / np.sqrt(2**self.N) * np.zeros((2**N, 1), dtype=complex)\n",
    "        # Set the amplitude of the first state\n",
    "        self.psi[0] = 1\n",
    "    \n",
    "    def get_register(self):\n",
    "        # Method to return the quantum state\n",
    "        return self.psi\n",
    "    \n",
    "    def measure_state(self):\n",
    "        probabilities = np.abs(self.psi)**2\n",
    "        \n",
    "        # select a basis state randomly according to the probabilities\n",
    "        measurement = np.random.choice(np.arange(len(self.psi)), p=probabilities.ravel())\n",
    "        return \"| \" + np.binary_repr(measurement, width = self.N) + \" >\"\n",
    "\n",
    "    def ApplyGate(self,gate):\n",
    "        self.psi = np.matmul(gate,self.psi)"
   ]
  },
  {
   "cell_type": "code",
   "execution_count": 38,
   "id": "81afd3e0",
   "metadata": {},
   "outputs": [],
   "source": [
    "class QuantumGates:\n",
    "    \n",
    "    @staticmethod\n",
    "    def HadamardTransform(N):\n",
    "        # define the initial Hadamard matrix\n",
    "        hadamard_initial = 1 / np.sqrt(2) * np.array([[1, 1], [1, -1]])\n",
    "\n",
    "        # number of iterations for the transformation\n",
    "        num_iterations = N - 1\n",
    "\n",
    "        # initialize the resulting tensor product matrix\n",
    "        hadamard_result = hadamard_initial\n",
    "\n",
    "        # perform tensor product iteratively\n",
    "        for i in range(num_iterations):\n",
    "            hadamard_result = np.kron(hadamard_initial, hadamard_result)\n",
    "\n",
    "        return hadamard_result\n",
    "    \n",
    "    @staticmethod\n",
    "    def ApplyHadamard(QuantReg):\n",
    "        N = QuantReg.N\n",
    "        HadamardGate = QuantumGates.HadamardTransform(N)\n",
    "        QuantReg.ApplyGate(HadamardGate)\n"
   ]
  },
  {
   "cell_type": "code",
   "execution_count": 41,
   "id": "b94a526f",
   "metadata": {},
   "outputs": [
    {
     "name": "stdout",
     "output_type": "stream",
     "text": [
      "[[1.+0.j]\n",
      " [0.+0.j]\n",
      " [0.+0.j]\n",
      " [0.+0.j]\n",
      " [0.+0.j]\n",
      " [0.+0.j]\n",
      " [0.+0.j]\n",
      " [0.+0.j]]\n",
      "| 000 >\n",
      "[[0.35355339+0.j]\n",
      " [0.35355339+0.j]\n",
      " [0.35355339+0.j]\n",
      " [0.35355339+0.j]\n",
      " [0.35355339+0.j]\n",
      " [0.35355339+0.j]\n",
      " [0.35355339+0.j]\n",
      " [0.35355339+0.j]]\n",
      "| 010 >\n"
     ]
    }
   ],
   "source": [
    "\"\"\"\n",
    "TESTING BLOCK\n",
    "\"\"\"\n",
    "\n",
    "\"\"\"creates the quantum register \"\"\"\n",
    "quantum_Register1 = QuantumRegister(3)\n",
    "print(quantum_Register1.get_register())\n",
    "print(quantum_Register1.measure_state())\n",
    "\n",
    "\"\"\"operating on the register using the gates\"\"\"\n",
    "#Applying the Hadamard\n",
    "QuantumGates.ApplyHadamard(quantum_Register1)\n",
    "print(quantum_Register1.get_register())\n",
    "\n",
    "#Applying the Oracle\n"
   ]
  },
  {
   "cell_type": "code",
   "execution_count": null,
   "id": "422acefd",
   "metadata": {},
   "outputs": [],
   "source": []
  }
 ],
 "metadata": {
  "interpreter": {
   "hash": "ed9264bd804eca024caa153aedf17f90535f1149313d01304d206fc3aaf3875b"
  },
  "kernelspec": {
   "display_name": "Python 3.9.12 64-bit ('base': conda)",
   "name": "python3"
  },
  "language_info": {
   "codemirror_mode": {
    "name": "ipython",
    "version": 3
   },
   "file_extension": ".py",
   "mimetype": "text/x-python",
   "name": "python",
   "nbconvert_exporter": "python",
   "pygments_lexer": "ipython3",
   "version": "3.9.12"
  }
 },
 "nbformat": 4,
 "nbformat_minor": 5
}
