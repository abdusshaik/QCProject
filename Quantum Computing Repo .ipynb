{
 "cells": [
  {
   "cell_type": "code",
   "execution_count": 105,
   "id": "529957f6",
   "metadata": {},
   "outputs": [],
   "source": [
    "# import necessary packages\n",
    "import numpy as np\n",
    "import scipy as sci\n",
    "import matplotlib as plt"
   ]
  },
  {
   "cell_type": "code",
   "execution_count": 106,
   "id": "f0454775",
   "metadata": {},
   "outputs": [],
   "source": [
    "class QuantumRegister:\n",
    "    def __init__(self, N):\n",
    "        # Initialize column vector\n",
    "        self.N = N\n",
    "        self.psi = 1 / np.sqrt(2**self.N) * np.zeros((2**N, 1), dtype=complex)\n",
    "        # Set the amplitude of the first state\n",
    "        self.psi[0] = 1\n",
    "    \n",
    "    def get_register(self):\n",
    "        # Method to return the quantum state\n",
    "        return self.psi\n",
    "    \n",
    "    def get_probabilities(self):\n",
    "        return np.abs(self.psi)**2\n",
    "\n",
    "    def measure_state(self):\n",
    "        probabilities = np.abs(self.psi)**2\n",
    "        # select a basis state randomly according to the probabilities\n",
    "        measurement = np.random.choice(np.arange(len(self.psi)), p=probabilities.ravel())\n",
    "        return \"| \" + np.binary_repr(measurement, width = self.N) + \" >\"\n",
    "\n",
    "    def target_state(self):\n",
    "        target = [1] * (self.N - 1)\n",
    "        target.append(0)\n",
    "        targetPrint = ''.join(str(x) for x in target)\n",
    "        return \"| \" + targetPrint + \" >\"\n",
    "\n",
    "    def ApplyGate(self,gate):\n",
    "        self.psi = np.matmul(gate,self.psi)\n",
    "\n",
    "    "
   ]
  },
  {
   "cell_type": "code",
   "execution_count": 107,
   "id": "81afd3e0",
   "metadata": {},
   "outputs": [],
   "source": [
    "class Hadamard:   \n",
    "    @staticmethod\n",
    "    def HadamardTransform(N):\n",
    "        # define the initial Hadamard matrix\n",
    "        hadamard_initial = 1 / np.sqrt(2) * np.array([[1, 1], [1, -1]])\n",
    "\n",
    "        # number of iterations for the transformation\n",
    "        num_iterations = N - 1\n",
    "\n",
    "        # initialize the resulting tensor product matrix\n",
    "        hadamard_result = hadamard_initial\n",
    "\n",
    "        # perform tensor product iteratively\n",
    "        for i in range(num_iterations):\n",
    "            hadamard_result = np.kron(hadamard_initial, hadamard_result)\n",
    "\n",
    "        return hadamard_result\n",
    "    \n",
    "    @staticmethod\n",
    "    def ApplyHadamard(QuantReg):\n",
    "        N = QuantReg.N\n",
    "        HadamardGate = Hadamard.HadamardTransform(N)\n",
    "        QuantReg.ApplyGate(HadamardGate)"
   ]
  },
  {
   "cell_type": "code",
   "execution_count": 108,
   "id": "a1dc922c",
   "metadata": {},
   "outputs": [],
   "source": [
    "class Oracle:\n",
    "    @staticmethod\n",
    "    def OracleGate(N,target):\n",
    "        #initialise oracle matric with target\n",
    "        oracleInitalise = np.eye(2**N)\n",
    "        oracleInitalise[target -1][target-1]=-1\n",
    "        \n",
    "        return oracleInitalise\n",
    "    \n",
    "    @staticmethod\n",
    "    def ApplyOracle(QuantReg):\n",
    "        N = QuantReg.N\n",
    "        target = (2**N) - 1\n",
    "        OracleOperator = Oracle.OracleGate(N,target)\n",
    "        QuantReg.ApplyGate(OracleOperator)"
   ]
  },
  {
   "cell_type": "code",
   "execution_count": 109,
   "id": "f2d6b45f",
   "metadata": {},
   "outputs": [],
   "source": [
    "class Diffusion:\n",
    "    @staticmethod\n",
    "    def DiffusionOperator(N):\n",
    "        # Define superposition state\n",
    "        s = np.zeros((2**N, 1), dtype=complex) #/ np.sqrt(2**N)\n",
    "        s[0][0]=1\n",
    "        # Compute |s><s|\n",
    "        ss_dagger = np.dot(s,s.T.conj())\n",
    "        # ID Matric\n",
    "        identity = np.eye(2**N)\n",
    "        # Diffusion Operator\n",
    "        diffusion =  (2 * ss_dagger) - identity \n",
    "        return diffusion\n",
    "    \n",
    "    @staticmethod\n",
    "    def ApplyDiffusion(QuantReg):\n",
    "        N = QuantReg.N\n",
    "        DiffusionGate = Diffusion.DiffusionOperator(N)\n",
    "        QuantReg.ApplyGate(DiffusionGate)"
   ]
  },
  {
   "cell_type": "code",
   "execution_count": 110,
   "id": "bbe99843",
   "metadata": {},
   "outputs": [],
   "source": [
    "class Grover:\n",
    "    @staticmethod\n",
    "    def ApplyAlgorithm(QuantReg):\n",
    "        N = QuantReg.N\n",
    "        IdealLoop = ((np.pi/4) * np.sqrt(2**N)).astype(int)\n",
    "        Hadamard.ApplyHadamard(QuantReg)\n",
    "        for i in range(IdealLoop):\n",
    "            Oracle.ApplyOracle(QuantReg)\n",
    "            Hadamard.ApplyHadamard(QuantReg)\n",
    "            Diffusion.ApplyDiffusion(QuantReg)\n",
    "            Hadamard.ApplyHadamard(QuantReg)\n",
    "        "
   ]
  },
  {
   "cell_type": "markdown",
   "id": "a842c1cd",
   "metadata": {},
   "source": []
  },
  {
   "cell_type": "code",
   "execution_count": 111,
   "id": "b94a526f",
   "metadata": {},
   "outputs": [
    {
     "name": "stdout",
     "output_type": "stream",
     "text": [
      "[[1.+0.j]\n",
      " [0.+0.j]\n",
      " [0.+0.j]\n",
      " [0.+0.j]\n",
      " [0.+0.j]\n",
      " [0.+0.j]\n",
      " [0.+0.j]\n",
      " [0.+0.j]]\n",
      "Current State:  | 000 >\n",
      "Target State:   | 110 >\n",
      "[[0.0078125]\n",
      " [0.0078125]\n",
      " [0.0078125]\n",
      " [0.0078125]\n",
      " [0.0078125]\n",
      " [0.0078125]\n",
      " [0.9453125]\n",
      " [0.0078125]]\n",
      "| 110 >\n"
     ]
    }
   ],
   "source": [
    "\"\"\"\n",
    "TESTING BLOCK\n",
    "\"\"\"\n",
    "\n",
    "\"\"\"creates the quantum register \"\"\"\n",
    "N=3\n",
    "target = 7\n",
    "quantum_Register1 = QuantumRegister(N)\n",
    "print(quantum_Register1.get_register())\n",
    "print(\"Current State: \",quantum_Register1.measure_state())\n",
    "print(\"Target State:  \",quantum_Register1.target_state())\n",
    "\n",
    "\"\"\"operating on the register using the gates\"\"\"\n",
    "#Applying the Hadamard\n",
    "Hcheck = Hadamard.HadamardTransform(N)\n",
    "#print(Hcheck)\n",
    "\n",
    "#Applying the Diffusion Operator\n",
    "diffuse =  Diffusion.DiffusionOperator(N)\n",
    "#print(diffuse)\n",
    "\n",
    "#Applying the Oracle\n",
    "Ocheck = Oracle.OracleGate(N,target)\n",
    "#print(Ocheck)\n",
    "\n",
    "\"\"\"Trying to work Grovers\"\"\"\n",
    "Hadamard.ApplyHadamard(quantum_Register1)\n",
    "for i in range(2):\n",
    "    Oracle.ApplyOracle(quantum_Register1)\n",
    "    Hadamard.ApplyHadamard(quantum_Register1)\n",
    "    Diffusion.ApplyDiffusion(quantum_Register1)\n",
    "    Hadamard.ApplyHadamard(quantum_Register1)\n",
    "print(quantum_Register1.get_probabilities())\n",
    "print(quantum_Register1.measure_state())\n"
   ]
  },
  {
   "cell_type": "code",
   "execution_count": 112,
   "id": "6ed1ad93",
   "metadata": {},
   "outputs": [
    {
     "name": "stdout",
     "output_type": "stream",
     "text": [
      "Begin State:  | 000 >\n",
      "[[1.]\n",
      " [0.]\n",
      " [0.]\n",
      " [0.]\n",
      " [0.]\n",
      " [0.]\n",
      " [0.]\n",
      " [0.]]\n",
      "After Algorithm:  | 110 >\n",
      "[[0.0078125]\n",
      " [0.0078125]\n",
      " [0.0078125]\n",
      " [0.0078125]\n",
      " [0.0078125]\n",
      " [0.0078125]\n",
      " [0.9453125]\n",
      " [0.0078125]]\n"
     ]
    }
   ],
   "source": [
    "qr = QuantumRegister(3)\n",
    "print(\"Begin State: \", qr.measure_state())\n",
    "print(qr.get_probabilities())\n",
    "\n",
    "\n",
    "Grover.ApplyAlgorithm(qr)\n",
    "print(\"After Algorithm: \", qr.measure_state())\n",
    "print(qr.get_probabilities())"
   ]
  },
  {
   "cell_type": "code",
   "execution_count": null,
   "id": "89fec7d5",
   "metadata": {},
   "outputs": [],
   "source": []
  },
  {
   "cell_type": "code",
   "execution_count": null,
   "id": "422acefd",
   "metadata": {},
   "outputs": [],
   "source": []
  }
 ],
 "metadata": {
  "interpreter": {
   "hash": "ed9264bd804eca024caa153aedf17f90535f1149313d01304d206fc3aaf3875b"
  },
  "kernelspec": {
   "display_name": "Python 3.9.12 64-bit ('base': conda)",
   "name": "python3"
  },
  "language_info": {
   "codemirror_mode": {
    "name": "ipython",
    "version": 3
   },
   "file_extension": ".py",
   "mimetype": "text/x-python",
   "name": "python",
   "nbconvert_exporter": "python",
   "pygments_lexer": "ipython3",
   "version": "3.9.12"
  }
 },
 "nbformat": 4,
 "nbformat_minor": 5
}
