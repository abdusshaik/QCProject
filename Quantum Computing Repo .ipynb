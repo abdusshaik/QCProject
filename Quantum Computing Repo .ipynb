{
 "cells": [
  {
   "cell_type": "code",
   "execution_count": 1,
   "metadata": {},
   "outputs": [
    {
     "name": "stdout",
     "output_type": "stream",
     "text": [
      "hello world\n"
     ]
    }
   ],
   "source": [
    "print(\"hello world\")\n",
    "#hello can you see this new change\n",
    "#please write your name just to make sure we can all edit this\n",
    "#bea\n",
    "#dilara\n",
    "#gabi"
   ]
  },
  {
   "cell_type": "code",
   "execution_count": 3,
   "metadata": {},
   "outputs": [],
   "source": [
    "#Imports\n",
    "import numpy as np\n",
    "import scipy as sci"
   ]
  },
  {
   "cell_type": "code",
   "execution_count": 3,
   "metadata": {},
   "outputs": [],
   "source": [
    "\"\"\"\n",
    "Class for quantum register for n number of qubits\n",
    "\"\"\"\n",
    "def tensor_Product(a,b):\n",
    "    product= a+b\n",
    "    return product\n",
    "\n",
    "class Quantum_Register:\n",
    "    def __init__(self,n):\n",
    "        self.n = n \n",
    "        self.psi = np.zeros((2,)*n)"
   ]
  },
  {
   "cell_type": "code",
   "execution_count": 4,
   "id": "8e9204a6",
   "metadata": {},
   "outputs": [],
   "source": [
    "\"\"\"\n",
    "Class for the quantum circuits \n",
    "\"\"\"\n",
    "class Quantum_Circuit:\n",
    "    def __init__(self):\n",
    "        self = self"
   ]
  },
  {
   "cell_type": "code",
   "execution_count": 5,
   "metadata": {},
   "outputs": [
    {
     "name": "stdout",
     "output_type": "stream",
     "text": [
      "the tensor product is,  3\n",
      "1\n",
      "[0. 0.]\n"
     ]
    }
   ],
   "source": [
    "\"\"\"Testing block \"\"\"\n",
    "print(\"the tensor product is, \", tensor_Product(1,2))\n",
    "newRegister= Quantum_Register(1)\n",
    "print(newRegister.n)\n",
    "print(newRegister.psi)"
   ]
  },
  {
   "cell_type": "code",
   "execution_count": 66,
   "id": "5f9164de",
   "metadata": {},
   "outputs": [],
   "source": [
    "#define number of qubits, N\n",
    "\n",
    "N = 3"
   ]
  },
  {
   "cell_type": "code",
   "execution_count": 67,
   "metadata": {},
   "outputs": [
    {
     "name": "stdout",
     "output_type": "stream",
     "text": [
      "[[0.+0.j]\n",
      " [0.+0.j]\n",
      " [0.+0.j]\n",
      " [0.+0.j]\n",
      " [0.+0.j]\n",
      " [0.+0.j]\n",
      " [0.+0.j]\n",
      " [0.+0.j]]\n"
     ]
    }
   ],
   "source": [
    "def qubit_register(N):\n",
    "    psi = (1/(2**(1/2)))*N*np.zeros((2**N, 1), dtype = complex)\n",
    "    \n",
    "    return psi\n",
    "psi = qubit_register(N)\n",
    "print(psi)"
   ]
  },
  {
   "cell_type": "code",
   "execution_count": 72,
   "id": "a3a3ad16",
   "metadata": {},
   "outputs": [
    {
     "name": "stdout",
     "output_type": "stream",
     "text": [
      "[[ 0.70710678  0.70710678]\n",
      " [ 0.70710678 -0.70710678]\n",
      " [ 0.70710678  0.70710678]\n",
      " [ 0.70710678 -0.70710678]\n",
      " [ 0.70710678  0.70710678]\n",
      " [ 0.70710678 -0.70710678]\n",
      " [ 0.70710678  0.70710678]\n",
      " [ 0.70710678 -0.70710678]\n",
      " [ 0.70710678  0.70710678]\n",
      " [ 0.70710678 -0.70710678]\n",
      " [ 0.70710678  0.70710678]\n",
      " [ 0.70710678 -0.70710678]\n",
      " [ 0.70710678  0.70710678]\n",
      " [ 0.70710678 -0.70710678]\n",
      " [ 0.70710678  0.70710678]\n",
      " [ 0.70710678 -0.70710678]]\n"
     ]
    }
   ],
   "source": [
    "def hadamard_gate(N):\n",
    "    hadamard = (1/(np.sqrt(2)))*np.array((2**N)*[[1,1],[1,-1]])\n",
    "    return hadamard\n",
    "hadamard = hadamard_gate(N)\n",
    "print(hadamard)"
   ]
  },
  {
   "cell_type": "code",
   "execution_count": 1,
   "id": "29fc9c19",
   "metadata": {},
   "outputs": [],
   "source": [
    "def diffusion_operator(N):\n",
    "    # Define superposition state\n",
    "    s = np.ones((2**N, 1), dtype=complex) / np.sqrt(2**N)\n",
    "    # Compute |s><s|\n",
    "    ss_dagger = np.dot(s, s.T.conj())\n",
    "    # ID Matric\n",
    "    identity = np.eye(2**N)\n",
    "    # Diffusion Operator\n",
    "    diffusion = 2 * ss_dagger - identity\n",
    "    return diffusion"
   ]
  },
  {
   "cell_type": "code",
   "execution_count": 5,
   "id": "c34ca188",
   "metadata": {},
   "outputs": [
    {
     "name": "stdout",
     "output_type": "stream",
     "text": [
      "[[-0.75+0.j  0.25+0.j  0.25+0.j  0.25+0.j  0.25+0.j  0.25+0.j  0.25+0.j\n",
      "   0.25+0.j]\n",
      " [ 0.25+0.j -0.75+0.j  0.25+0.j  0.25+0.j  0.25+0.j  0.25+0.j  0.25+0.j\n",
      "   0.25+0.j]\n",
      " [ 0.25+0.j  0.25+0.j -0.75+0.j  0.25+0.j  0.25+0.j  0.25+0.j  0.25+0.j\n",
      "   0.25+0.j]\n",
      " [ 0.25+0.j  0.25+0.j  0.25+0.j -0.75+0.j  0.25+0.j  0.25+0.j  0.25+0.j\n",
      "   0.25+0.j]\n",
      " [ 0.25+0.j  0.25+0.j  0.25+0.j  0.25+0.j -0.75+0.j  0.25+0.j  0.25+0.j\n",
      "   0.25+0.j]\n",
      " [ 0.25+0.j  0.25+0.j  0.25+0.j  0.25+0.j  0.25+0.j -0.75+0.j  0.25+0.j\n",
      "   0.25+0.j]\n",
      " [ 0.25+0.j  0.25+0.j  0.25+0.j  0.25+0.j  0.25+0.j  0.25+0.j -0.75+0.j\n",
      "   0.25+0.j]\n",
      " [ 0.25+0.j  0.25+0.j  0.25+0.j  0.25+0.j  0.25+0.j  0.25+0.j  0.25+0.j\n",
      "  -0.75+0.j]]\n"
     ]
    }
   ],
   "source": [
    "fuse= diffusion_operator(3)\n",
    "print(fuse)"
   ]
  },
  {
   "cell_type": "code",
   "execution_count": null,
   "id": "529957f6",
   "metadata": {},
   "outputs": [],
   "source": []
  }
 ],
 "metadata": {
  "interpreter": {
   "hash": "ed9264bd804eca024caa153aedf17f90535f1149313d01304d206fc3aaf3875b"
  },
  "kernelspec": {
   "display_name": "Python 3.9.12 64-bit ('base': conda)",
   "name": "python3"
  },
  "language_info": {
   "codemirror_mode": {
    "name": "ipython",
    "version": 3
   },
   "file_extension": ".py",
   "mimetype": "text/x-python",
   "name": "python",
   "nbconvert_exporter": "python",
   "pygments_lexer": "ipython3",
   "version": "3.9.12"
  }
 },
 "nbformat": 4,
 "nbformat_minor": 5
}
