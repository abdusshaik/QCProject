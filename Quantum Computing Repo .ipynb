{
 "cells": [
  {
   "cell_type": "code",
   "execution_count": 73,
   "metadata": {},
   "outputs": [
    {
     "name": "stdout",
     "output_type": "stream",
     "text": [
      "hello world\n"
     ]
    }
   ],
   "source": [
    "print(\"hello world\")\n",
    "#hello can you see this new change\n",
    "#please write your name just to make sure we can all edit this\n",
    "#bea\n",
    "#dilara\n",
    "#test"
   ]
  },
  {
   "cell_type": "code",
   "execution_count": 74,
   "metadata": {},
   "outputs": [],
   "source": [
    "#Imports\n",
    "import numpy as np\n",
    "import scipy as sci"
   ]
  },
  {
   "cell_type": "code",
   "execution_count": 84,
   "metadata": {},
   "outputs": [],
   "source": [
    "\"\"\"\n",
    "Class for quantum register for n number of qubits\n",
    "\"\"\"\n",
    "def tensor_Product(a,b):\n",
    "    product= np.tensordot(a,b, axes=0)\n",
    "    return product\n",
    "\n",
    "class Quantum_Register:\n",
    "    def __init__(self,n):\n",
    "        self.n=n\n",
    "        self.psi=np.zeros((2,)*n)       # make array of zeros with right shape\n",
    "        self.psi[(0,)*n]=1              # put psi[0,0,...,0] to 1\n",
    "        \n",
    "\n",
    "        "
   ]
  },
  {
   "cell_type": "code",
   "execution_count": null,
   "id": "e9ee63f0",
   "metadata": {},
   "outputs": [],
   "source": [
    "\"\"\"\n",
    "Hadamard Gate Single - Qubit Operator\n",
    "\"\"\"\n",
    "\n",
    "H_matrix=1/np.sqrt(2)*np.array([[1, 1],\n",
    "                                [1,-1]])"
   ]
  },
  {
   "cell_type": "code",
   "execution_count": 85,
   "id": "8e9204a6",
   "metadata": {},
   "outputs": [],
   "source": [
    "\"\"\"\n",
    "Class for the quantum circuits \n",
    "\"\"\"\n",
    "class Quantum_Circuit:\n",
    "    def __init__(self):\n",
    "        self = self"
   ]
  },
  {
   "cell_type": "code",
   "execution_count": 86,
   "metadata": {},
   "outputs": [
    {
     "name": "stdout",
     "output_type": "stream",
     "text": [
      "4\n",
      "[[[[1. 0.]\n",
      "   [0. 0.]]\n",
      "\n",
      "  [[0. 0.]\n",
      "   [0. 0.]]]\n",
      "\n",
      "\n",
      " [[[0. 0.]\n",
      "   [0. 0.]]\n",
      "\n",
      "  [[0. 0.]\n",
      "   [0. 0.]]]]\n"
     ]
    }
   ],
   "source": [
    "\"\"\"Testing block \"\"\"\n",
    "\n",
    "qubit0= np.array([1,0])\n",
    "\n",
    "qubit1= np.array([0,1])\n",
    "qubit3= (1/np.sqrt(2))*(qubit0 + qubit1)\n",
    "\n",
    "\n",
    "newRegister= Quantum_Register(4)\n",
    "\n",
    "print(newRegister.n)\n",
    "print(newRegister.psi)\n",
    "\n",
    "#print(tensor_Product(qubit3,qubit3))"
   ]
  },
  {
   "cell_type": "code",
   "execution_count": null,
   "metadata": {},
   "outputs": [],
   "source": []
  },
  {
   "cell_type": "code",
   "execution_count": null,
   "id": "2842e383",
   "metadata": {},
   "outputs": [],
   "source": []
  }
 ],
 "metadata": {
  "interpreter": {
   "hash": "ed9264bd804eca024caa153aedf17f90535f1149313d01304d206fc3aaf3875b"
  },
  "kernelspec": {
   "display_name": "Python 3.9.12 64-bit ('base': conda)",
   "name": "python3"
  },
  "language_info": {
   "codemirror_mode": {
    "name": "ipython",
    "version": 3
   },
   "file_extension": ".py",
   "mimetype": "text/x-python",
   "name": "python",
   "nbconvert_exporter": "python",
   "pygments_lexer": "ipython3",
   "version": "3.9.12"
  }
 },
 "nbformat": 4,
 "nbformat_minor": 5
}
