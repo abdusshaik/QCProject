{
 "cells": [
  {
   "cell_type": "code",
   "execution_count": 7,
   "metadata": {},
   "outputs": [
    {
     "name": "stdout",
     "output_type": "stream",
     "text": [
      "hello world\n"
     ]
    }
   ],
   "source": [
    "print(\"hello world\")\n",
    "#hello can you see this new change\n",
    "#please write your name just to make sure we can all edit this\n",
    "# dilara"
   ]
  },
  {
   "cell_type": "code",
   "execution_count": 8,
   "metadata": {},
   "outputs": [],
   "source": [
    "#Imports\n",
    "import numpy as np\n",
    "import scipy as sci"
   ]
  },
  {
   "cell_type": "code",
   "execution_count": 12,
   "metadata": {},
   "outputs": [],
   "source": [
    "\"\"\"\n",
    "Class for quantum register for n number of qubits\n",
    "\"\"\"\n",
    "class Quantum_Register:\n",
    "    def __init__(self, n):\n",
    "        self.n = n \n",
    "        self.psi = np.zeros((2,)*n)"
   ]
  },
  {
   "cell_type": "code",
   "execution_count": 17,
   "metadata": {},
   "outputs": [
    {
     "name": "stdout",
     "output_type": "stream",
     "text": [
      "1\n",
      "[0. 0.]\n"
     ]
    }
   ],
   "source": [
    "\"\"\"Testing block \"\"\"\n",
    "\n",
    "newRegister= Quantum_Register(1)\n",
    "print(newRegister.n)\n",
    "print(newRegister.psi)"
   ]
  }
 ],
 "metadata": {
  "interpreter": {
   "hash": "ed9264bd804eca024caa153aedf17f90535f1149313d01304d206fc3aaf3875b"
  },
  "kernelspec": {
   "display_name": "Python 3.9.12 64-bit ('base': conda)",
   "name": "python3"
  },
  "language_info": {
   "codemirror_mode": {
    "name": "ipython",
    "version": 3
   },
   "file_extension": ".py",
   "mimetype": "text/x-python",
   "name": "python",
   "nbconvert_exporter": "python",
   "pygments_lexer": "ipython3",
   "version": "3.11.5"
  }
 },
 "nbformat": 4,
 "nbformat_minor": 5
}
