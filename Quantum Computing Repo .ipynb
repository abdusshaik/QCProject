{
 "cells": [
  {
   "cell_type": "code",
   "execution_count": 10,
   "metadata": {},
   "outputs": [
    {
     "name": "stdout",
     "output_type": "stream",
     "text": [
      "hello world\n"
     ]
    }
   ],
   "source": [
    "print(\"hello world\")\n",
    "#hello can you see this new change\n",
    "#please write your name just to make sure we can all edit this\n",
    "#bea\n",
    "#dilara\n",
    "#test"
   ]
  },
  {
   "cell_type": "code",
   "execution_count": 11,
   "metadata": {},
   "outputs": [],
   "source": [
    "#Imports\n",
    "import numpy as np\n",
    "import scipy as sci"
   ]
  },
  {
   "cell_type": "code",
   "execution_count": 12,
   "metadata": {},
   "outputs": [],
   "source": [
    "\"\"\"\n",
    "Class for quantum register for n number of qubits\n",
    "\"\"\"\n",
    "def tensor_Product(a,b):\n",
    "    product= a+b\n",
    "    return product\n",
    "\n",
    "class Quantum_Register:\n",
    "    def __init__(self,n):\n",
    "        self.n = n \n",
    "        self.psi = np.zeros((2,)*n)"
   ]
  },
  {
   "cell_type": "code",
   "execution_count": null,
   "id": "8e9204a6",
   "metadata": {},
   "outputs": [],
   "source": [
    "\"\"\"\n",
    "Class for the quantum circuits \n",
    "\"\"\"\n",
    "class Quantum_Circuit:\n",
    "    def __init__(self):\n",
    "        self = self"
   ]
  },
  {
   "cell_type": "code",
   "execution_count": 13,
   "metadata": {},
   "outputs": [
    {
     "name": "stdout",
     "output_type": "stream",
     "text": [
      "the tensor product is,  3\n",
      "1\n",
      "[0. 0.]\n"
     ]
    }
   ],
   "source": [
    "\"\"\"Testing block \"\"\"\n",
    "print(\"the tensor product is, \", tensor_Product(1,2))\n",
    "newRegister= Quantum_Register(1)\n",
    "print(newRegister.n)\n",
    "print(newRegister.psi)"
   ]
  },
  {
   "cell_type": "code",
   "execution_count": null,
   "metadata": {},
   "outputs": [],
   "source": []
  }
 ],
 "metadata": {
  "interpreter": {
   "hash": "ed9264bd804eca024caa153aedf17f90535f1149313d01304d206fc3aaf3875b"
  },
  "kernelspec": {
   "display_name": "Python 3.9.12 64-bit ('base': conda)",
   "name": "python3"
  },
  "language_info": {
   "codemirror_mode": {
    "name": "ipython",
    "version": 3
   },
   "file_extension": ".py",
   "mimetype": "text/x-python",
   "name": "python",
   "nbconvert_exporter": "python",
   "pygments_lexer": "ipython3",
   "version": "3.9.12"
  }
 },
 "nbformat": 4,
 "nbformat_minor": 5
}
